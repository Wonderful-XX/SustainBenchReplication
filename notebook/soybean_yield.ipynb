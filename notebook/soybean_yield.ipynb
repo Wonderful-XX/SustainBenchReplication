{
 "cells": [
  {
   "cell_type": "code",
   "execution_count": 4,
   "id": "598629b7",
   "metadata": {},
   "outputs": [
    {
     "name": "stdout",
     "output_type": "stream",
     "text": [
      "Train set: (5792, 32, 32, 9), Validation set: (1448, 32, 32, 9), Test set: (1809, 32, 32, 9)\n",
      "Fitting RandomForestRegressor...\n",
      "[Validation] RMSE = 0.356 t/ha, R² = 0.732\n",
      "[Test] RMSE = 0.344 t/ha, R² = 0.746\n"
     ]
    }
   ],
   "source": [
    "import numpy as np\n",
    "import os\n",
    "from sklearn.ensemble import RandomForestRegressor\n",
    "from sklearn.metrics import mean_squared_error, r2_score\n",
    "\n",
    "# 1) POINT THIS TO THE FOLDER CONTAINING THE 6 NPZ FILES:\n",
    "DATA_DIR = \"./usa_soybeans_data\"\n",
    "\n",
    "# 2) HYPERPARAMETERS & REPRODUCIBILITY SETTINGS\n",
    "N_TREES = 100\n",
    "RANDOM_SEED = 0\n",
    "N_JOBS = 1  # Force single-thread for more reproducible results\n",
    "\n",
    "# Load each split from the pre-split NPZ files\n",
    "train_X = np.load(os.path.join(DATA_DIR, \"train_hists.npz\"))[\"data\"]\n",
    "train_y = np.load(os.path.join(DATA_DIR, \"train_yields.npz\"))[\"data\"]\n",
    "\n",
    "val_X = np.load(os.path.join(DATA_DIR, \"dev_hists.npz\"))[\"data\"]\n",
    "val_y = np.load(os.path.join(DATA_DIR, \"dev_yields.npz\"))[\"data\"]\n",
    "\n",
    "test_X = np.load(os.path.join(DATA_DIR, \"test_hists.npz\"))[\"data\"]\n",
    "test_y = np.load(os.path.join(DATA_DIR, \"test_yields.npz\"))[\"data\"]\n",
    "\n",
    "print(f\"Train set: {train_X.shape}, Validation set: {val_X.shape}, Test set: {test_X.shape}\")\n",
    "\n",
    "# Flatten 32x32x9 histograms -> 9216 features\n",
    "train_X_flat = train_X.reshape(train_X.shape[0], -1)\n",
    "val_X_flat   = val_X.reshape(val_X.shape[0], -1)\n",
    "test_X_flat  = test_X.reshape(test_X.shape[0], -1)\n",
    "\n",
    "# 3) TRAIN RANDOM FOREST\n",
    "rf = RandomForestRegressor(\n",
    "    n_estimators=N_TREES,\n",
    "    random_state=RANDOM_SEED,\n",
    "    n_jobs=N_JOBS\n",
    ")\n",
    "print(\"Fitting RandomForestRegressor...\")\n",
    "rf.fit(train_X_flat, train_y)\n",
    "\n",
    "# 4) EVALUATE ON VALIDATION SET\n",
    "val_preds = rf.predict(val_X_flat)\n",
    "val_rmse = mean_squared_error(val_y, val_preds, squared=False)\n",
    "val_r2 = r2_score(val_y, val_preds)\n",
    "print(f\"[Validation] RMSE = {val_rmse:.3f} t/ha, R² = {val_r2:.3f}\")\n",
    "\n",
    "# 5) EVALUATE ON TEST SET\n",
    "test_preds = rf.predict(test_X_flat)\n",
    "test_rmse = mean_squared_error(test_y, test_preds, squared=False)\n",
    "test_r2 = r2_score(test_y, test_preds)\n",
    "print(f\"[Test] RMSE = {test_rmse:.3f} t/ha, R² = {test_r2:.3f}\")\n"
   ]
  }
 ],
 "metadata": {
  "kernelspec": {
   "display_name": "sus_env",
   "language": "python",
   "name": "sus_env"
  },
  "language_info": {
   "codemirror_mode": {
    "name": "ipython",
    "version": 3
   },
   "file_extension": ".py",
   "mimetype": "text/x-python",
   "name": "python",
   "nbconvert_exporter": "python",
   "pygments_lexer": "ipython3",
   "version": "3.8.20"
  }
 },
 "nbformat": 4,
 "nbformat_minor": 5
}
